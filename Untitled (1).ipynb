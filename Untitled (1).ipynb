{
 "cells": [
  {
   "cell_type": "markdown",
   "id": "766e184d",
   "metadata": {},
   "source": [
    "# number gassing game \n"
   ]
  },
  {
   "cell_type": "code",
   "execution_count": 89,
   "id": "3d1d3092",
   "metadata": {},
   "outputs": [],
   "source": [
    "import random "
   ]
  },
  {
   "cell_type": "code",
   "execution_count": 95,
   "id": "fbdb7430",
   "metadata": {},
   "outputs": [
    {
     "name": "stdout",
     "output_type": "stream",
     "text": [
      "Enter the number:6\n",
      "your number is small for computer number is  51\n",
      "Enter the number:51\n",
      "your numbar is gretar for computer number is 20\n",
      "Enter the number:56\n",
      "your numbar is gretar for computer number is 42\n",
      "Enter the number:78\n",
      "your numbar is gretar for computer number is 18\n"
     ]
    }
   ],
   "source": [
    "\n",
    "for i in range(1,5):\n",
    "    n=random.randint(1,89)\n",
    "    u=int(input(\"Enter the number:\"))\n",
    "    if n<u:\n",
    "        print(\"your numbar is gretar\",\"for computer number is\",n)\n",
    "    elif n>u:\n",
    "        print(\"your number is small\",\"for computer number is \",n)\n",
    "    else:\n",
    "        print(\"your number is equal for comuper number is \",n)"
   ]
  },
  {
   "cell_type": "code",
   "execution_count": null,
   "id": "0b1c2557",
   "metadata": {},
   "outputs": [],
   "source": []
  }
 ],
 "metadata": {
  "kernelspec": {
   "display_name": "Python 3 (ipykernel)",
   "language": "python",
   "name": "python3"
  },
  "language_info": {
   "codemirror_mode": {
    "name": "ipython",
    "version": 3
   },
   "file_extension": ".py",
   "mimetype": "text/x-python",
   "name": "python",
   "nbconvert_exporter": "python",
   "pygments_lexer": "ipython3",
   "version": "3.10.9"
  }
 },
 "nbformat": 4,
 "nbformat_minor": 5
}
